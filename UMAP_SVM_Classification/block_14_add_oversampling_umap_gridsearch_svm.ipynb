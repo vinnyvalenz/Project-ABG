{
 "cells": [
  {
   "cell_type": "code",
   "execution_count": 168,
   "id": "ruled-tribute",
   "metadata": {},
   "outputs": [],
   "source": [
    "import numpy as np\n",
    "import pandas as pd"
   ]
  },
  {
   "cell_type": "code",
   "execution_count": 169,
   "id": "unlimited-breathing",
   "metadata": {},
   "outputs": [],
   "source": [
    "# Here we are loading the dataset, that has been proceesed through mobilenetv2 from\n",
    "# layer block_14_add\n",
    "# membership and distrobution of training, validation, and test set are pre determined via pseudo random methods\n",
    "ABG_training_data2 = pd.read_csv(\"block_14_add_training_set.csv\")\n",
    "ABG_training_data = pd.read_csv(\"mobnet_block_14_add_features_OverSampledDataSplit_seed3_train.csv\")\n",
    "ABG_validation_data = pd.read_csv(\"block_14_add_validation_data.csv\")\n",
    "ABG_testing_data = pd.read_csv(\"block_14_add_testing_feature.csv\")"
   ]
  },
  {
   "cell_type": "code",
   "execution_count": 170,
   "id": "stylish-internship",
   "metadata": {},
   "outputs": [],
   "source": [
    "# dropping all unknown values from the dataset\n",
    "ABG_training_data = ABG_training_data.dropna()\n",
    "ABG_validation_data = ABG_validation_data.dropna()\n",
    "ABG_testing_data = ABG_testing_data.dropna()"
   ]
  },
  {
   "cell_type": "code",
   "execution_count": 171,
   "id": "electronic-market",
   "metadata": {},
   "outputs": [],
   "source": [
    "#  The UMAP fit function only takes in numerical/char labels for this reason\n",
    "#  In this csv file, \n",
    "#   Anthrophony is labeled as 1\n",
    "#   Biophony is labeled as 2\n",
    "#   Geophony is labeled as 3\n",
    "#   Other is labeled as 4"
   ]
  },
  {
   "cell_type": "code",
   "execution_count": 172,
   "id": "compressed-publicity",
   "metadata": {
    "scrolled": true
   },
   "outputs": [
    {
     "data": {
      "text/plain": [
       "1    3086\n",
       "2    3086\n",
       "3    3086\n",
       "4    3086\n",
       "Name: Label, dtype: int64"
      ]
     },
     "execution_count": 172,
     "metadata": {},
     "output_type": "execute_result"
    }
   ],
   "source": [
    "ABG_training_data.Label.value_counts()  # number of datapoints in each class in training set"
   ]
  },
  {
   "cell_type": "code",
   "execution_count": 173,
   "id": "functioning-stationery",
   "metadata": {},
   "outputs": [
    {
     "data": {
      "text/plain": [
       "1    200\n",
       "2    200\n",
       "3    200\n",
       "4     50\n",
       "Name: Label, dtype: int64"
      ]
     },
     "execution_count": 173,
     "metadata": {},
     "output_type": "execute_result"
    }
   ],
   "source": [
    "ABG_validation_data.Label.value_counts()  # number of datapoints in each class in validation set"
   ]
  },
  {
   "cell_type": "code",
   "execution_count": 174,
   "id": "raising-monkey",
   "metadata": {},
   "outputs": [
    {
     "data": {
      "text/plain": [
       "1    50\n",
       "2    50\n",
       "3    50\n",
       "4    50\n",
       "Name: Label, dtype: int64"
      ]
     },
     "execution_count": 174,
     "metadata": {},
     "output_type": "execute_result"
    }
   ],
   "source": [
    "ABG_testing_data.Label.value_counts()  # number of datapoints in each class in testing set"
   ]
  },
  {
   "cell_type": "code",
   "execution_count": 175,
   "id": "contrary-seminar",
   "metadata": {},
   "outputs": [],
   "source": [
    "from sklearn.preprocessing import StandardScaler  "
   ]
  },
  {
   "cell_type": "code",
   "execution_count": 176,
   "id": "verified-delay",
   "metadata": {},
   "outputs": [],
   "source": [
    "scaler = StandardScaler().fit(ABG_training_data.drop(\"Label\", axis = 1))  # normalizing based on training data "
   ]
  },
  {
   "cell_type": "code",
   "execution_count": 177,
   "id": "seeing-munich",
   "metadata": {},
   "outputs": [],
   "source": [
    "# applying the normalization to the other datapoints \n",
    "scaled_training_set   = scaler.transform(ABG_training_data.drop(\"Label\", axis = 1))    \n",
    "scaled_validation_set = scaler.transform(ABG_validation_data.drop(\"Label\", axis = 1))\n",
    "scaled_testing_set    = scaler.transform(ABG_testing_data.drop(\"Label\", axis = 1))"
   ]
  },
  {
   "cell_type": "code",
   "execution_count": 178,
   "id": "exact-sweden",
   "metadata": {},
   "outputs": [],
   "source": [
    "trainingDataLabel = [''] * 12344  # creating char labels that UMAP can accept \n",
    "for i in range(0,3086):\n",
    "    trainingDataLabel[i] = 'A'\n",
    "for i in range(3086,6172):\n",
    "    trainingDataLabel[i] = 'B'\n",
    "for i in range(6172,9258):\n",
    "    trainingDataLabel[i] = 'G'\n",
    "for i in range(9258,12344):\n",
    "    trainingDataLabel[i] = 'O'"
   ]
  },
  {
   "cell_type": "code",
   "execution_count": 179,
   "id": "threaded-electron",
   "metadata": {},
   "outputs": [],
   "source": [
    "ValidationDataLabel = [''] * 650  # creating char labels that UMAP can accept \n",
    "for i in range(0,200):\n",
    "    ValidationDataLabel[i] = 'A'\n",
    "for i in range(200,400):\n",
    "    ValidationDataLabel[i] = 'B'\n",
    "for i in range(400,600):\n",
    "    ValidationDataLabel[i] = 'G'\n",
    "for i in range(600,650):\n",
    "    ValidationDataLabel[i] = 'O'"
   ]
  },
  {
   "cell_type": "code",
   "execution_count": 180,
   "id": "moral-council",
   "metadata": {},
   "outputs": [],
   "source": [
    "testDataLabel = [''] * 200  # creating char labels that UMAP can accept \n",
    "for i in range(0,50):\n",
    "    testDataLabel[i] = 'A'\n",
    "for i in range(50,100):\n",
    "    testDataLabel[i] = 'B'\n",
    "for i in range(100,150):\n",
    "    testDataLabel[i] = 'G'\n",
    "for i in range(150,200):\n",
    "    testDataLabel[i] = 'O'"
   ]
  },
  {
   "cell_type": "code",
   "execution_count": 181,
   "id": "tender-button",
   "metadata": {},
   "outputs": [],
   "source": [
    "combinedLabel = trainingDataLabel + ValidationDataLabel;  # combining labels for cross-validation for gridsearch"
   ]
  },
  {
   "cell_type": "code",
   "execution_count": 182,
   "id": "civilian-knight",
   "metadata": {},
   "outputs": [
    {
     "name": "stderr",
     "output_type": "stream",
     "text": [
      "/Users/jcalderonchavez/opt/miniconda3/lib/python3.8/site-packages/umap/umap_.py:2449: FutureWarning: Beginning in version 0.22, arrays of bytes/strings will be converted to decimal numbers if dtype='numeric'. It is recommended that you convert the array to a float dtype before using it in scikit-learn, for example by using your_array = your_array.astype(np.float64).\n",
      "  y_ = check_array(y, ensure_2d=False)[index]\n",
      "/Users/jcalderonchavez/opt/miniconda3/lib/python3.8/site-packages/scipy/sparse/_index.py:126: SparseEfficiencyWarning: Changing the sparsity structure of a csr_matrix is expensive. lil_matrix is more efficient.\n",
      "  self._set_arrayXarray(i, j, x)\n"
     ]
    },
    {
     "name": "stdout",
     "output_type": "stream",
     "text": [
      "inside function\n",
      "   (0, 317)\t0.2568219\n",
      "  (0, 536)\t0.32978076\n",
      "  (0, 806)\t0.25450936\n",
      "  (0, 890)\t0.26361617\n",
      "  (0, 1214)\t0.2584386\n",
      "  (0, 1303)\t0.2584386\n",
      "  (0, 1709)\t0.32978076\n",
      "  (0, 1732)\t0.25450936\n",
      "  (0, 2035)\t0.25450936\n",
      "  (0, 2261)\t0.3273826\n",
      "  (0, 2513)\t0.27723306\n",
      "  (0, 2680)\t0.3273826\n",
      "  (0, 2881)\t0.3273826\n",
      "  (0, 2905)\t0.2584386\n",
      "  (0, 2999)\t0.2584386\n",
      "  (1, 108)\t0.28642863\n",
      "  (1, 1830)\t0.23417212\n",
      "  (1, 2017)\t0.30710205\n",
      "  (1, 2481)\t0.26012984\n",
      "  (1, 2992)\t0.24828565\n",
      "  (1, 3150)\t0.27734432\n",
      "  (1, 3362)\t0.27734432\n",
      "  (1, 3918)\t0.26779887\n",
      "  (1, 4163)\t0.25718877\n",
      "  (1, 4340)\t0.37533334\n",
      "  :\t:\n",
      "  (648, 6813)\t0.2769064\n",
      "  (648, 7559)\t0.2829548\n",
      "  (648, 7629)\t0.27405944\n",
      "  (648, 7892)\t0.27405944\n",
      "  (648, 7952)\t0.2849711\n",
      "  (648, 8278)\t0.2829548\n",
      "  (648, 8383)\t0.2769064\n",
      "  (648, 8679)\t0.2829548\n",
      "  (648, 9041)\t0.2769064\n",
      "  (648, 9153)\t0.27405944\n",
      "  (649, 3196)\t0.22660024\n",
      "  (649, 6596)\t0.23337348\n",
      "  (649, 7127)\t0.23337348\n",
      "  (649, 9397)\t0.27810013\n",
      "  (649, 10321)\t0.3295839\n",
      "  (649, 10464)\t0.3295839\n",
      "  (649, 10718)\t0.27810013\n",
      "  (649, 10776)\t0.27810013\n",
      "  (649, 11051)\t0.27810013\n",
      "  (649, 11188)\t0.27810013\n",
      "  (649, 11630)\t0.3295839\n",
      "  (649, 11696)\t0.27810013\n",
      "  (649, 12036)\t0.3295839\n",
      "  (649, 12121)\t0.27810013\n",
      "  (649, 12245)\t0.27810013\n",
      "inside function\n",
      "   (0, 101)\t0.28170767\n",
      "  (0, 500)\t0.27315128\n",
      "  (0, 976)\t0.28170767\n",
      "  (0, 1235)\t0.28170767\n",
      "  (0, 2930)\t0.28170767\n",
      "  (0, 3614)\t0.27079365\n",
      "  (0, 3885)\t0.27668387\n",
      "  (0, 4083)\t0.27615517\n",
      "  (0, 4334)\t0.2789569\n",
      "  (0, 4440)\t0.3083174\n",
      "  (0, 5065)\t0.29828125\n",
      "  (0, 5580)\t0.27144742\n",
      "  (0, 5688)\t0.27668387\n",
      "  (0, 5921)\t0.2789569\n",
      "  (0, 5928)\t0.2789569\n",
      "  (1, 345)\t0.31056666\n",
      "  (1, 400)\t0.31056666\n",
      "  (1, 890)\t0.24814981\n",
      "  (1, 924)\t0.31056666\n",
      "  (1, 970)\t0.29539737\n",
      "  (1, 1642)\t0.24538997\n",
      "  (1, 1852)\t0.2649163\n",
      "  (1, 1890)\t0.2649163\n",
      "  (1, 1969)\t0.2649163\n",
      "  (1, 2287)\t0.29539737\n",
      "  :\t:\n",
      "  (198, 7006)\t0.28030953\n",
      "  (198, 7089)\t0.28030953\n",
      "  (198, 8364)\t0.28030953\n",
      "  (198, 8384)\t0.27637723\n",
      "  (198, 8408)\t0.27637723\n",
      "  (198, 8463)\t0.27637723\n",
      "  (198, 8512)\t0.27637723\n",
      "  (198, 9335)\t0.2746284\n",
      "  (198, 10145)\t0.2746284\n",
      "  (198, 10299)\t0.2746284\n",
      "  (199, 4246)\t0.27789503\n",
      "  (199, 5005)\t0.27789503\n",
      "  (199, 9380)\t0.30931586\n",
      "  (199, 10692)\t0.24920222\n",
      "  (199, 10720)\t0.30931586\n",
      "  (199, 10772)\t0.30931586\n",
      "  (199, 11040)\t0.24920222\n",
      "  (199, 11104)\t0.24920222\n",
      "  (199, 11105)\t0.24920222\n",
      "  (199, 11284)\t0.30931586\n",
      "  (199, 11406)\t0.24920222\n",
      "  (199, 11737)\t0.30931586\n",
      "  (199, 11771)\t0.30931586\n",
      "  (199, 12017)\t0.30931586\n",
      "  (199, 12213)\t0.24920222\n"
     ]
    }
   ],
   "source": [
    "import umap  \n",
    "reducer   = umap.UMAP(random_state=42, n_components=4, n_neighbors=15, min_dist = 0.25)  # init umap and set param\n",
    "embedding = reducer.fit(scaled_training_set, trainingDataLabel)  # this is where umap learns about our data\n",
    "# through supervised learning\n",
    "\n",
    "# From here umap applies the metrics it learned from the data set to the rest of the data set\n",
    "Training_Embedding   = reducer.transform(scaled_training_set) \n",
    "Validation_Embedding = reducer.transform(scaled_validation_set)\n",
    "Testing_Embedding    = reducer.transform(scaled_testing_set)"
   ]
  },
  {
   "cell_type": "code",
   "execution_count": 183,
   "id": "olive-intelligence",
   "metadata": {},
   "outputs": [],
   "source": [
    "combined_data = np.vstack((Training_Embedding, Validation_Embedding)) # combining labels for cross-validation for gridsearch"
   ]
  },
  {
   "cell_type": "code",
   "execution_count": 184,
   "id": "colonial-instrumentation",
   "metadata": {},
   "outputs": [],
   "source": [
    "inValidation = [0] * 12994  # here we are distingishing which datapoint of in the validation set\n",
    "for i in range(0, 12343):\n",
    "    inValidation[i] = -1\n",
    "    \n",
    "for i in range(12344, 12993):\n",
    "    inValidation[i] = 0    "
   ]
  },
  {
   "cell_type": "code",
   "execution_count": 185,
   "id": "leading-shape",
   "metadata": {},
   "outputs": [],
   "source": [
    "from sklearn.model_selection import PredefinedSplit\n",
    "ps = PredefinedSplit(test_fold=inValidation)"
   ]
  },
  {
   "cell_type": "code",
   "execution_count": 186,
   "id": "exciting-circle",
   "metadata": {},
   "outputs": [
    {
     "name": "stdout",
     "output_type": "stream",
     "text": [
      "Fitting 1 folds for each of 25 candidates, totalling 25 fits\n",
      "[CV] C=0.1, gamma=1, kernel=rbf, probability=True ....................\n"
     ]
    },
    {
     "name": "stderr",
     "output_type": "stream",
     "text": [
      "[Parallel(n_jobs=1)]: Using backend SequentialBackend with 1 concurrent workers.\n"
     ]
    },
    {
     "name": "stdout",
     "output_type": "stream",
     "text": [
      "[CV]  C=0.1, gamma=1, kernel=rbf, probability=True, score=0.724, total=   8.5s\n",
      "[CV] C=0.1, gamma=0.1, kernel=rbf, probability=True ..................\n"
     ]
    },
    {
     "name": "stderr",
     "output_type": "stream",
     "text": [
      "[Parallel(n_jobs=1)]: Done   1 out of   1 | elapsed:    8.5s remaining:    0.0s\n"
     ]
    },
    {
     "name": "stdout",
     "output_type": "stream",
     "text": [
      "[CV]  C=0.1, gamma=0.1, kernel=rbf, probability=True, score=0.722, total=   5.0s\n",
      "[CV] C=0.1, gamma=0.01, kernel=rbf, probability=True .................\n"
     ]
    },
    {
     "name": "stderr",
     "output_type": "stream",
     "text": [
      "[Parallel(n_jobs=1)]: Done   2 out of   2 | elapsed:   13.5s remaining:    0.0s\n"
     ]
    },
    {
     "name": "stdout",
     "output_type": "stream",
     "text": [
      "[CV]  C=0.1, gamma=0.01, kernel=rbf, probability=True, score=0.693, total=   6.1s\n",
      "[CV] C=0.1, gamma=0.001, kernel=rbf, probability=True ................\n",
      "[CV]  C=0.1, gamma=0.001, kernel=rbf, probability=True, score=0.622, total=  13.5s\n",
      "[CV] C=0.1, gamma=0.0001, kernel=rbf, probability=True ...............\n",
      "[CV]  C=0.1, gamma=0.0001, kernel=rbf, probability=True, score=0.524, total=  22.8s\n",
      "[CV] C=1, gamma=1, kernel=rbf, probability=True ......................\n",
      "[CV]  C=1, gamma=1, kernel=rbf, probability=True, score=0.724, total=   3.4s\n",
      "[CV] C=1, gamma=0.1, kernel=rbf, probability=True ....................\n",
      "[CV]  C=1, gamma=0.1, kernel=rbf, probability=True, score=0.722, total=   2.3s\n",
      "[CV] C=1, gamma=0.01, kernel=rbf, probability=True ...................\n",
      "[CV]  C=1, gamma=0.01, kernel=rbf, probability=True, score=0.705, total=   4.4s\n",
      "[CV] C=1, gamma=0.001, kernel=rbf, probability=True ..................\n",
      "[CV]  C=1, gamma=0.001, kernel=rbf, probability=True, score=0.665, total=   8.2s\n",
      "[CV] C=1, gamma=0.0001, kernel=rbf, probability=True .................\n",
      "[CV]  C=1, gamma=0.0001, kernel=rbf, probability=True, score=0.567, total=  18.3s\n",
      "[CV] C=10, gamma=1, kernel=rbf, probability=True .....................\n",
      "[CV]  C=10, gamma=1, kernel=rbf, probability=True, score=0.722, total=   3.7s\n",
      "[CV] C=10, gamma=0.1, kernel=rbf, probability=True ...................\n",
      "[CV]  C=10, gamma=0.1, kernel=rbf, probability=True, score=0.719, total=   2.0s\n",
      "[CV] C=10, gamma=0.01, kernel=rbf, probability=True ..................\n",
      "[CV]  C=10, gamma=0.01, kernel=rbf, probability=True, score=0.722, total=   4.3s\n",
      "[CV] C=10, gamma=0.001, kernel=rbf, probability=True .................\n",
      "[CV]  C=10, gamma=0.001, kernel=rbf, probability=True, score=0.691, total=   6.8s\n",
      "[CV] C=10, gamma=0.0001, kernel=rbf, probability=True ................\n",
      "[CV]  C=10, gamma=0.0001, kernel=rbf, probability=True, score=0.628, total=  12.7s\n",
      "[CV] C=100, gamma=1, kernel=rbf, probability=True ....................\n",
      "[CV]  C=100, gamma=1, kernel=rbf, probability=True, score=0.717, total=   4.0s\n",
      "[CV] C=100, gamma=0.1, kernel=rbf, probability=True ..................\n",
      "[CV]  C=100, gamma=0.1, kernel=rbf, probability=True, score=0.716, total=   2.6s\n",
      "[CV] C=100, gamma=0.01, kernel=rbf, probability=True .................\n",
      "[CV]  C=100, gamma=0.01, kernel=rbf, probability=True, score=0.724, total=   7.1s\n",
      "[CV] C=100, gamma=0.001, kernel=rbf, probability=True ................\n",
      "[CV]  C=100, gamma=0.001, kernel=rbf, probability=True, score=0.700, total=  10.1s\n",
      "[CV] C=100, gamma=0.0001, kernel=rbf, probability=True ...............\n",
      "[CV]  C=100, gamma=0.0001, kernel=rbf, probability=True, score=0.667, total=  10.8s\n",
      "[CV] C=1000, gamma=1, kernel=rbf, probability=True ...................\n",
      "[CV]  C=1000, gamma=1, kernel=rbf, probability=True, score=0.716, total=   4.2s\n",
      "[CV] C=1000, gamma=0.1, kernel=rbf, probability=True .................\n",
      "[CV]  C=1000, gamma=0.1, kernel=rbf, probability=True, score=0.710, total=   3.1s\n",
      "[CV] C=1000, gamma=0.01, kernel=rbf, probability=True ................\n",
      "[CV]  C=1000, gamma=0.01, kernel=rbf, probability=True, score=0.724, total=  16.9s\n",
      "[CV] C=1000, gamma=0.001, kernel=rbf, probability=True ...............\n",
      "[CV]  C=1000, gamma=0.001, kernel=rbf, probability=True, score=0.707, total=  25.8s\n",
      "[CV] C=1000, gamma=0.0001, kernel=rbf, probability=True ..............\n",
      "[CV]  C=1000, gamma=0.0001, kernel=rbf, probability=True, score=0.688, total=  13.9s\n"
     ]
    },
    {
     "name": "stderr",
     "output_type": "stream",
     "text": [
      "[Parallel(n_jobs=1)]: Done  25 out of  25 | elapsed:  3.7min finished\n"
     ]
    },
    {
     "data": {
      "text/plain": [
       "GridSearchCV(cv=PredefinedSplit(test_fold=array([-1, -1, ...,  0,  0])),\n",
       "             error_score=nan,\n",
       "             estimator=SVC(C=1.0, break_ties=False, cache_size=200,\n",
       "                           class_weight=None, coef0=0.0,\n",
       "                           decision_function_shape='ovr', degree=3,\n",
       "                           gamma='scale', kernel='rbf', max_iter=-1,\n",
       "                           probability=False, random_state=None, shrinking=True,\n",
       "                           tol=0.001, verbose=False),\n",
       "             iid='deprecated', n_jobs=None,\n",
       "             param_grid={'C': [0.1, 1, 10, 100, 1000],\n",
       "                         'gamma': [1, 0.1, 0.01, 0.001, 0.0001],\n",
       "                         'kernel': ['rbf'], 'probability': [True]},\n",
       "             pre_dispatch='2*n_jobs', refit=True, return_train_score=False,\n",
       "             scoring=None, verbose=3)"
      ]
     },
     "execution_count": 186,
     "metadata": {},
     "output_type": "execute_result"
    }
   ],
   "source": [
    "from sklearn.model_selection import GridSearchCV \n",
    "from sklearn.model_selection import cross_validate\n",
    "from sklearn.svm import SVC\n",
    "\n",
    "# defining parameter range \n",
    "param_grid = {'C': [0.1, 1, 10, 100, 1000],  \n",
    "              'gamma': [1, 0.1, 0.01, 0.001, 0.0001], \n",
    "              'kernel': ['rbf'], \n",
    "              'probability': [True]\n",
    "             }  \n",
    "  \n",
    "grid = GridSearchCV(SVC(), param_grid, refit = True, verbose = 3, cv=ps) \n",
    "  \n",
    "# fitting the model for grid search \n",
    "grid.fit(combined_data, combinedLabel) "
   ]
  },
  {
   "cell_type": "code",
   "execution_count": 187,
   "id": "informal-split",
   "metadata": {},
   "outputs": [
    {
     "name": "stdout",
     "output_type": "stream",
     "text": [
      "SVC(C=0.1, break_ties=False, cache_size=200, class_weight=None, coef0=0.0,\n",
      "    decision_function_shape='ovr', degree=3, gamma=1, kernel='rbf', max_iter=-1,\n",
      "    probability=True, random_state=None, shrinking=True, tol=0.001,\n",
      "    verbose=False)\n"
     ]
    }
   ],
   "source": [
    "# print how our model looks after hyper-parameter tuning \n",
    "print(grid.best_estimator_) "
   ]
  },
  {
   "cell_type": "code",
   "execution_count": 188,
   "id": "illegal-radiation",
   "metadata": {},
   "outputs": [
    {
     "name": "stdout",
     "output_type": "stream",
     "text": [
      "{'C': 0.1, 'gamma': 1, 'kernel': 'rbf', 'probability': True}\n"
     ]
    }
   ],
   "source": [
    "# print best parameter after tuning \n",
    "print(grid.best_params_) "
   ]
  },
  {
   "cell_type": "code",
   "execution_count": 189,
   "id": "liked-deposit",
   "metadata": {
    "scrolled": true
   },
   "outputs": [
    {
     "name": "stdout",
     "output_type": "stream",
     "text": [
      "              precision    recall  f1-score   support\n",
      "\n",
      "           A       0.93      0.76      0.84        50\n",
      "           B       0.76      0.84      0.80        50\n",
      "           G       0.83      0.80      0.82        50\n",
      "           O       0.79      0.88      0.83        50\n",
      "\n",
      "    accuracy                           0.82       200\n",
      "   macro avg       0.83      0.82      0.82       200\n",
      "weighted avg       0.83      0.82      0.82       200\n",
      "\n",
      "0.82\n"
     ]
    }
   ],
   "source": [
    "from sklearn.metrics import classification_report, confusion_matrix \n",
    "from sklearn.metrics import accuracy_score\n",
    "\n",
    "grid_predictions = grid.predict(Testing_Embedding) \n",
    "print(classification_report(testDataLabel, grid_predictions)) # print classification report \n",
    "print(accuracy_score(testDataLabel, grid_predictions))"
   ]
  },
  {
   "cell_type": "code",
   "execution_count": 190,
   "id": "harmful-penalty",
   "metadata": {},
   "outputs": [
    {
     "name": "stdout",
     "output_type": "stream",
     "text": [
      "[[38  9  2  1]\n",
      " [ 1 42  2  5]\n",
      " [ 1  3 40  6]\n",
      " [ 1  1  4 44]]\n"
     ]
    }
   ],
   "source": [
    "print(confusion_matrix(testDataLabel, grid_predictions)) # c matrix"
   ]
  }
 ],
 "metadata": {
  "kernelspec": {
   "display_name": "Python 3",
   "language": "python",
   "name": "python3"
  },
  "language_info": {
   "codemirror_mode": {
    "name": "ipython",
    "version": 3
   },
   "file_extension": ".py",
   "mimetype": "text/x-python",
   "name": "python",
   "nbconvert_exporter": "python",
   "pygments_lexer": "ipython3",
   "version": "3.8.5"
  }
 },
 "nbformat": 4,
 "nbformat_minor": 5
}
